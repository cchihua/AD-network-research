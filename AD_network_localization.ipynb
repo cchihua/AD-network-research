{
 "cells": [
  {
   "cell_type": "markdown",
   "metadata": {},
   "source": [
    "# Network Propagation and Localization Analysis of AD Genes\n",
    "\n",
    "### Description\n",
    "This notebook serves as an introduction to the Heat module of the Network Bio Toolkit.\n",
    "\n",
    "### Required Files\n",
    "\n",
    "* Download network_bio_toolkit code: https://github.com/ucsd-ccbb/network_bio_toolkit.  Install dependencies, read documentation.\n",
    "\n",
    "In the directory of this notebook, create a folder `data` containing the following files:\n",
    "1. Download Agora targets list (under Nominated Targets): https://agora.ampadportal.org/genes/  \n",
    "2. Download AD-by-proxy FUMA GWAS genes:  https://www.nature.com/articles/s41588-018-0311-9  (Table S13).\n",
    "3. Download the .gpickle file to set up the local heat network. "
   ]
  },
  {
   "cell_type": "markdown",
   "metadata": {},
   "source": [
    "## Set Up Environment"
   ]
  },
  {
   "cell_type": "code",
   "execution_count": 82,
   "metadata": {},
   "outputs": [],
   "source": [
    "import sys\n",
    "import os\n",
    "\n",
    "# import matplotlib\n",
    "# matplotlib.use('TkAgg')\n",
    "\n",
    "import matplotlib.pyplot as plt\n",
    "import pandas as pd\n",
    "import numpy as np\n",
    "import networkx as nx\n",
    "import seaborn as sns\n",
    "\n",
    "# import community\n",
    "\n",
    "# import mygene\n",
    "# mg = mygene.MyGeneInfo()\n",
    "\n",
    "# latex rendering of text in graphs\n",
    "import matplotlib as mpl\n",
    "from matplotlib import rcParams\n",
    "rcParams['font.family'] = 'sans-serif'\n",
    "rcParams['font.sans-serif'] = ['Arial']\n",
    "\n",
    "%matplotlib inline\n",
    "\n",
    "# import visJS2jupyter.visJS_module\n",
    "# import visJS2jupyter.visualizations"
   ]
  },
  {
   "cell_type": "markdown",
   "metadata": {},
   "source": [
    "Locate the path to the `network_bio_toolkit` and set to the `toolkit_path` variable. We need to `import Heat3` if using Python 3 (`import Heat2` if using Python 2) and `import imp` in order to use the Heat module."
   ]
  },
  {
   "cell_type": "code",
   "execution_count": 83,
   "metadata": {
    "scrolled": true
   },
   "outputs": [
    {
     "data": {
      "text/plain": [
       "<module 'Heat3' from '\\\\Users\\\\nathantsai\\\\AppData\\\\Roaming\\\\Python\\\\Python36\\\\site-packages\\\\network_bio_toolkit\\\\Heat3.py'>"
      ]
     },
     "execution_count": 83,
     "metadata": {},
     "output_type": "execute_result"
    }
   ],
   "source": [
    "toolkit_path = os.path.join(os.environ['HOMEPATH'], 'AppData', 'Roaming', 'Python', 'Python36', 'site-packages', 'network_bio_toolkit')\n",
    "\n",
    "sys.path.append(toolkit_path)\n",
    "\n",
    "import Heat3\n",
    "import imp\n",
    "\n",
    "imp.reload(Heat3)"
   ]
  },
  {
   "cell_type": "markdown",
   "metadata": {},
   "source": [
    "## Load the AD genes\n",
    "\n",
    "Nominated target list: https://agora.ampadportal.org/genes/(genes-router:genes-list)\n",
    "(suggested by Chi Hua)."
   ]
  },
  {
   "cell_type": "code",
   "execution_count": 84,
   "metadata": {},
   "outputs": [
    {
     "name": "stdout",
     "output_type": "stream",
     "text": [
      "The AD Genes DataFrame contains 607 genes.\n"
     ]
    },
    {
     "data": {
      "text/html": [
       "<div>\n",
       "<style scoped>\n",
       "    .dataframe tbody tr th:only-of-type {\n",
       "        vertical-align: middle;\n",
       "    }\n",
       "\n",
       "    .dataframe tbody tr th {\n",
       "        vertical-align: top;\n",
       "    }\n",
       "\n",
       "    .dataframe thead th {\n",
       "        text-align: right;\n",
       "    }\n",
       "</style>\n",
       "<table border=\"1\" class=\"dataframe\">\n",
       "  <thead>\n",
       "    <tr style=\"text-align: right;\">\n",
       "      <th></th>\n",
       "      <th>Source</th>\n",
       "      <th>Team</th>\n",
       "      <th>Rank</th>\n",
       "      <th>ensembl_gene_id</th>\n",
       "      <th>hgnc_symbol</th>\n",
       "      <th>Target_Choice_Justification</th>\n",
       "      <th>Predicted_Therapeutic_Direction</th>\n",
       "      <th>Data_used_to_support_target_selection</th>\n",
       "      <th>data_synapseID</th>\n",
       "      <th>study</th>\n",
       "      <th>input_data</th>\n",
       "    </tr>\n",
       "    <tr>\n",
       "      <th>hgnc_symbol</th>\n",
       "      <th></th>\n",
       "      <th></th>\n",
       "      <th></th>\n",
       "      <th></th>\n",
       "      <th></th>\n",
       "      <th></th>\n",
       "      <th></th>\n",
       "      <th></th>\n",
       "      <th></th>\n",
       "      <th></th>\n",
       "      <th></th>\n",
       "    </tr>\n",
       "  </thead>\n",
       "  <tbody>\n",
       "    <tr>\n",
       "      <th>IL10RA</th>\n",
       "      <td>AMP-AD</td>\n",
       "      <td>Mayo-UFL-ISB</td>\n",
       "      <td>1</td>\n",
       "      <td>ENSG00000110324</td>\n",
       "      <td>IL10RA</td>\n",
       "      <td>Reducing this molecules signaling has benefici...</td>\n",
       "      <td>Antagonism predicted to reduce disease progres...</td>\n",
       "      <td>Antagonism of Il10 signaling via KO or sIL10Ra...</td>\n",
       "      <td>syn17008061</td>\n",
       "      <td>Mayo</td>\n",
       "      <td>RNA</td>\n",
       "    </tr>\n",
       "    <tr>\n",
       "      <th>IL10</th>\n",
       "      <td>AMP-AD</td>\n",
       "      <td>Mayo-UFL-ISB</td>\n",
       "      <td>2</td>\n",
       "      <td>ENSG00000136634</td>\n",
       "      <td>IL10</td>\n",
       "      <td>Reducing this molecules signaling has benefici...</td>\n",
       "      <td>Antagonism predicted to reduce disease progres...</td>\n",
       "      <td>Increased Il10 increase amyloid and tau pathol...</td>\n",
       "      <td>syn17008061</td>\n",
       "      <td>Mayo</td>\n",
       "      <td>RNA</td>\n",
       "    </tr>\n",
       "    <tr>\n",
       "      <th>TLR5</th>\n",
       "      <td>AMP-AD</td>\n",
       "      <td>Mayo-UFL-ISB</td>\n",
       "      <td>3</td>\n",
       "      <td>ENSG00000187554</td>\n",
       "      <td>TLR5</td>\n",
       "      <td>TLR5 binds amyloid and is implicated in immune...</td>\n",
       "      <td>Agonism predicted to reduce disease progression.</td>\n",
       "      <td>sTLR5 is validated by modeling studies as a no...</td>\n",
       "      <td>syn17008061</td>\n",
       "      <td>Mayo</td>\n",
       "      <td>RNA</td>\n",
       "    </tr>\n",
       "    <tr>\n",
       "      <th>CRH</th>\n",
       "      <td>AMP-AD</td>\n",
       "      <td>Mayo-UFL-ISB</td>\n",
       "      <td>4</td>\n",
       "      <td>ENSG00000147571</td>\n",
       "      <td>CRH</td>\n",
       "      <td>CRH is key central signal coordinating psychol...</td>\n",
       "      <td>Antagonism predicted to reduce disease progres...</td>\n",
       "      <td>CRHR1 may be implicated by genetics. CRH up in...</td>\n",
       "      <td>syn17008061</td>\n",
       "      <td>Mayo</td>\n",
       "      <td>RNA</td>\n",
       "    </tr>\n",
       "    <tr>\n",
       "      <th>CXCL10</th>\n",
       "      <td>AMP-AD</td>\n",
       "      <td>Mayo-UFL-ISB</td>\n",
       "      <td>5</td>\n",
       "      <td>ENSG00000169245</td>\n",
       "      <td>CXCL10</td>\n",
       "      <td>An immune activating molecule. Decreased amylo...</td>\n",
       "      <td>Agonism predicted to reduce disease progression.</td>\n",
       "      <td>Decrease amyloid in APP mice with no apparent ...</td>\n",
       "      <td>syn17008061</td>\n",
       "      <td>Mayo</td>\n",
       "      <td>RNA</td>\n",
       "    </tr>\n",
       "  </tbody>\n",
       "</table>\n",
       "</div>"
      ],
      "text/plain": [
       "             Source          Team Rank  ensembl_gene_id hgnc_symbol  \\\n",
       "hgnc_symbol                                                           \n",
       "IL10RA       AMP-AD  Mayo-UFL-ISB    1  ENSG00000110324      IL10RA   \n",
       "IL10         AMP-AD  Mayo-UFL-ISB    2  ENSG00000136634        IL10   \n",
       "TLR5         AMP-AD  Mayo-UFL-ISB    3  ENSG00000187554        TLR5   \n",
       "CRH          AMP-AD  Mayo-UFL-ISB    4  ENSG00000147571         CRH   \n",
       "CXCL10       AMP-AD  Mayo-UFL-ISB    5  ENSG00000169245      CXCL10   \n",
       "\n",
       "                                   Target_Choice_Justification  \\\n",
       "hgnc_symbol                                                      \n",
       "IL10RA       Reducing this molecules signaling has benefici...   \n",
       "IL10         Reducing this molecules signaling has benefici...   \n",
       "TLR5         TLR5 binds amyloid and is implicated in immune...   \n",
       "CRH          CRH is key central signal coordinating psychol...   \n",
       "CXCL10       An immune activating molecule. Decreased amylo...   \n",
       "\n",
       "                               Predicted_Therapeutic_Direction  \\\n",
       "hgnc_symbol                                                      \n",
       "IL10RA       Antagonism predicted to reduce disease progres...   \n",
       "IL10         Antagonism predicted to reduce disease progres...   \n",
       "TLR5          Agonism predicted to reduce disease progression.   \n",
       "CRH          Antagonism predicted to reduce disease progres...   \n",
       "CXCL10        Agonism predicted to reduce disease progression.   \n",
       "\n",
       "                         Data_used_to_support_target_selection data_synapseID  \\\n",
       "hgnc_symbol                                                                     \n",
       "IL10RA       Antagonism of Il10 signaling via KO or sIL10Ra...    syn17008061   \n",
       "IL10         Increased Il10 increase amyloid and tau pathol...    syn17008061   \n",
       "TLR5         sTLR5 is validated by modeling studies as a no...    syn17008061   \n",
       "CRH          CRHR1 may be implicated by genetics. CRH up in...    syn17008061   \n",
       "CXCL10       Decrease amyloid in APP mice with no apparent ...    syn17008061   \n",
       "\n",
       "            study input_data  \n",
       "hgnc_symbol                   \n",
       "IL10RA       Mayo        RNA  \n",
       "IL10         Mayo        RNA  \n",
       "TLR5         Mayo        RNA  \n",
       "CRH          Mayo        RNA  \n",
       "CXCL10       Mayo        RNA  "
      ]
     },
     "execution_count": 84,
     "metadata": {},
     "output_type": "execute_result"
    }
   ],
   "source": [
    "# Locate AD genes list path\n",
    "AD_genes_path = os.path.join('data', 'harmonized_targets_v5_20190615.csv')\n",
    "\n",
    "# Read AD genes list into a DataFrame\n",
    "AD_genes = pd.read_csv(AD_genes_path)\n",
    "\n",
    "# Set index to 'hgnc_symbol' column and keep column\n",
    "AD_genes = AD_genes.set_index('hgnc_symbol', drop=False)\n",
    "\n",
    "print(\"The AD Genes DataFrame contains %d genes.\" % len(AD_genes))\n",
    "AD_genes.head()"
   ]
  },
  {
   "cell_type": "markdown",
   "metadata": {},
   "source": [
    "## Load the <a href=\"https://www.nature.com/articles/s41588-018-0311-9\">AD GWAS genes</a>"
   ]
  },
  {
   "cell_type": "code",
   "execution_count": 85,
   "metadata": {
    "scrolled": false
   },
   "outputs": [
    {
     "name": "stdout",
     "output_type": "stream",
     "text": [
      "The AD GWAS DataFrame contains 192 genes.\n"
     ]
    },
    {
     "data": {
      "text/html": [
       "<div>\n",
       "<style scoped>\n",
       "    .dataframe tbody tr th:only-of-type {\n",
       "        vertical-align: middle;\n",
       "    }\n",
       "\n",
       "    .dataframe tbody tr th {\n",
       "        vertical-align: top;\n",
       "    }\n",
       "\n",
       "    .dataframe thead th {\n",
       "        text-align: right;\n",
       "    }\n",
       "</style>\n",
       "<table border=\"1\" class=\"dataframe\">\n",
       "  <thead>\n",
       "    <tr style=\"text-align: right;\">\n",
       "      <th></th>\n",
       "      <th>Locus</th>\n",
       "      <th>Gene</th>\n",
       "      <th>Ensembl ID</th>\n",
       "      <th>Entrez ID</th>\n",
       "      <th>CHR</th>\n",
       "      <th>Start BP</th>\n",
       "      <th>End BP</th>\n",
       "      <th>pLI</th>\n",
       "      <th>posMap #SNPs</th>\n",
       "      <th>posMap Max CADD</th>\n",
       "      <th>...</th>\n",
       "      <th>eqtlMap Tissues</th>\n",
       "      <th>eqtlMap Direction</th>\n",
       "      <th>ciMap</th>\n",
       "      <th>ciMap Tissues</th>\n",
       "      <th>minGwasP</th>\n",
       "      <th>IndSigSNPs</th>\n",
       "      <th>TWAS P</th>\n",
       "      <th>COLOC prob</th>\n",
       "      <th>TWAS Tissue</th>\n",
       "      <th>Additional TWAS Tissues</th>\n",
       "    </tr>\n",
       "    <tr>\n",
       "      <th>Gene</th>\n",
       "      <th></th>\n",
       "      <th></th>\n",
       "      <th></th>\n",
       "      <th></th>\n",
       "      <th></th>\n",
       "      <th></th>\n",
       "      <th></th>\n",
       "      <th></th>\n",
       "      <th></th>\n",
       "      <th></th>\n",
       "      <th></th>\n",
       "      <th></th>\n",
       "      <th></th>\n",
       "      <th></th>\n",
       "      <th></th>\n",
       "      <th></th>\n",
       "      <th></th>\n",
       "      <th></th>\n",
       "      <th></th>\n",
       "      <th></th>\n",
       "      <th></th>\n",
       "    </tr>\n",
       "  </thead>\n",
       "  <tbody>\n",
       "    <tr>\n",
       "      <th>PPOX</th>\n",
       "      <td>1</td>\n",
       "      <td>PPOX</td>\n",
       "      <td>ENSG00000143224</td>\n",
       "      <td>5498</td>\n",
       "      <td>1</td>\n",
       "      <td>161136200</td>\n",
       "      <td>161147803</td>\n",
       "      <td>0.328332</td>\n",
       "      <td>2</td>\n",
       "      <td>5.402</td>\n",
       "      <td>...</td>\n",
       "      <td>BIOS_eQTL_geneLevel</td>\n",
       "      <td>-</td>\n",
       "      <td>No</td>\n",
       "      <td>NaN</td>\n",
       "      <td>2.051494e-10</td>\n",
       "      <td>rs4575098</td>\n",
       "      <td>n.s.</td>\n",
       "      <td>NaN</td>\n",
       "      <td>NaN</td>\n",
       "      <td>NaN</td>\n",
       "    </tr>\n",
       "    <tr>\n",
       "      <th>B4GALT3</th>\n",
       "      <td>1</td>\n",
       "      <td>B4GALT3</td>\n",
       "      <td>ENSG00000158850</td>\n",
       "      <td>8703</td>\n",
       "      <td>1</td>\n",
       "      <td>161141100</td>\n",
       "      <td>161147287</td>\n",
       "      <td>0.020823</td>\n",
       "      <td>2</td>\n",
       "      <td>5.402</td>\n",
       "      <td>...</td>\n",
       "      <td>BIOS_eQTL_geneLevel:v6/Cells_Transformed_fibro...</td>\n",
       "      <td>-</td>\n",
       "      <td>No</td>\n",
       "      <td>NaN</td>\n",
       "      <td>2.051494e-10</td>\n",
       "      <td>rs4575098</td>\n",
       "      <td>2.01e-08</td>\n",
       "      <td>0.039</td>\n",
       "      <td>Cells_Transformed_fibroblasts</td>\n",
       "      <td>NaN</td>\n",
       "    </tr>\n",
       "    <tr>\n",
       "      <th>ADAMTS4</th>\n",
       "      <td>1</td>\n",
       "      <td>ADAMTS4</td>\n",
       "      <td>ENSG00000158859</td>\n",
       "      <td>9507</td>\n",
       "      <td>1</td>\n",
       "      <td>161154098</td>\n",
       "      <td>161168846</td>\n",
       "      <td>0.005466</td>\n",
       "      <td>2</td>\n",
       "      <td>5.402</td>\n",
       "      <td>...</td>\n",
       "      <td>BIOS_eQTL_geneLevel:v6/Cells_Transformed_fibro...</td>\n",
       "      <td>-</td>\n",
       "      <td>No</td>\n",
       "      <td>NaN</td>\n",
       "      <td>2.051494e-10</td>\n",
       "      <td>rs4575098</td>\n",
       "      <td>1.87e-06</td>\n",
       "      <td>0.027</td>\n",
       "      <td>Cells_Transformed_fibroblasts</td>\n",
       "      <td>NaN</td>\n",
       "    </tr>\n",
       "    <tr>\n",
       "      <th>NDUFS2</th>\n",
       "      <td>1</td>\n",
       "      <td>NDUFS2</td>\n",
       "      <td>ENSG00000158864</td>\n",
       "      <td>4720</td>\n",
       "      <td>1</td>\n",
       "      <td>161166894</td>\n",
       "      <td>161184185</td>\n",
       "      <td>0.997735</td>\n",
       "      <td>0</td>\n",
       "      <td>0.000</td>\n",
       "      <td>...</td>\n",
       "      <td>BIOS_eQTL_geneLevel:v6/Adipose_Subcutaneous:v6...</td>\n",
       "      <td>-</td>\n",
       "      <td>No</td>\n",
       "      <td>NaN</td>\n",
       "      <td>2.051494e-10</td>\n",
       "      <td>rs4575098</td>\n",
       "      <td>1.48e-10</td>\n",
       "      <td>0.998</td>\n",
       "      <td>Adipose_Subcutaneous</td>\n",
       "      <td>NaN</td>\n",
       "    </tr>\n",
       "    <tr>\n",
       "      <th>FCER1G</th>\n",
       "      <td>1</td>\n",
       "      <td>FCER1G</td>\n",
       "      <td>ENSG00000158869</td>\n",
       "      <td>2207</td>\n",
       "      <td>1</td>\n",
       "      <td>161185024</td>\n",
       "      <td>161190489</td>\n",
       "      <td>0.635846</td>\n",
       "      <td>0</td>\n",
       "      <td>0.000</td>\n",
       "      <td>...</td>\n",
       "      <td>BIOS_eQTL_geneLevel:v6/Adipose_Subcutaneous:v6...</td>\n",
       "      <td>-</td>\n",
       "      <td>No</td>\n",
       "      <td>NaN</td>\n",
       "      <td>2.051494e-10</td>\n",
       "      <td>rs4575098</td>\n",
       "      <td>n.s.</td>\n",
       "      <td>NaN</td>\n",
       "      <td>NaN</td>\n",
       "      <td>NaN</td>\n",
       "    </tr>\n",
       "  </tbody>\n",
       "</table>\n",
       "<p>5 rows × 23 columns</p>\n",
       "</div>"
      ],
      "text/plain": [
       "         Locus     Gene       Ensembl ID  Entrez ID  CHR   Start BP  \\\n",
       "Gene                                                                  \n",
       "PPOX         1     PPOX  ENSG00000143224       5498    1  161136200   \n",
       "B4GALT3      1  B4GALT3  ENSG00000158850       8703    1  161141100   \n",
       "ADAMTS4      1  ADAMTS4  ENSG00000158859       9507    1  161154098   \n",
       "NDUFS2       1   NDUFS2  ENSG00000158864       4720    1  161166894   \n",
       "FCER1G       1   FCER1G  ENSG00000158869       2207    1  161185024   \n",
       "\n",
       "            End BP       pLI  posMap #SNPs  posMap Max CADD  ...  \\\n",
       "Gene                                                         ...   \n",
       "PPOX     161147803  0.328332             2            5.402  ...   \n",
       "B4GALT3  161147287  0.020823             2            5.402  ...   \n",
       "ADAMTS4  161168846  0.005466             2            5.402  ...   \n",
       "NDUFS2   161184185  0.997735             0            0.000  ...   \n",
       "FCER1G   161190489  0.635846             0            0.000  ...   \n",
       "\n",
       "                                           eqtlMap Tissues  eqtlMap Direction  \\\n",
       "Gene                                                                            \n",
       "PPOX                                   BIOS_eQTL_geneLevel                  -   \n",
       "B4GALT3  BIOS_eQTL_geneLevel:v6/Cells_Transformed_fibro...                  -   \n",
       "ADAMTS4  BIOS_eQTL_geneLevel:v6/Cells_Transformed_fibro...                  -   \n",
       "NDUFS2   BIOS_eQTL_geneLevel:v6/Adipose_Subcutaneous:v6...                  -   \n",
       "FCER1G   BIOS_eQTL_geneLevel:v6/Adipose_Subcutaneous:v6...                  -   \n",
       "\n",
       "         ciMap ciMap Tissues      minGwasP IndSigSNPs    TWAS P  COLOC prob  \\\n",
       "Gene                                                                          \n",
       "PPOX        No           NaN  2.051494e-10  rs4575098      n.s.         NaN   \n",
       "B4GALT3     No           NaN  2.051494e-10  rs4575098  2.01e-08       0.039   \n",
       "ADAMTS4     No           NaN  2.051494e-10  rs4575098  1.87e-06       0.027   \n",
       "NDUFS2      No           NaN  2.051494e-10  rs4575098  1.48e-10       0.998   \n",
       "FCER1G      No           NaN  2.051494e-10  rs4575098      n.s.         NaN   \n",
       "\n",
       "                           TWAS Tissue Additional TWAS Tissues  \n",
       "Gene                                                            \n",
       "PPOX                               NaN                     NaN  \n",
       "B4GALT3  Cells_Transformed_fibroblasts                     NaN  \n",
       "ADAMTS4  Cells_Transformed_fibroblasts                     NaN  \n",
       "NDUFS2            Adipose_Subcutaneous                     NaN  \n",
       "FCER1G                             NaN                     NaN  \n",
       "\n",
       "[5 rows x 23 columns]"
      ]
     },
     "execution_count": 85,
     "metadata": {},
     "output_type": "execute_result"
    }
   ],
   "source": [
    "# Locate AD GWAS excel spreadsheet path\n",
    "AD_gwas_path = os.path.join('data', '41588_2018_311_MOESM3_ESM.xlsx')\n",
    "\n",
    "# Read AD GWAS genes list into a DataFrame\n",
    "AD_gwas_df = pd.read_excel(AD_gwas_path, sheet_name='Table S13', skiprows=3)\n",
    "\n",
    "# Set index to 'Gene' column and keep column\n",
    "AD_gwas_df = AD_gwas_df.set_index('Gene', drop=False)\n",
    "\n",
    "print(\"The AD GWAS DataFrame contains %d genes.\" % len(AD_gwas_df))\n",
    "AD_gwas_df.head()"
   ]
  },
  {
   "cell_type": "markdown",
   "metadata": {},
   "source": [
    "## Network Propagation Set Up"
   ]
  },
  {
   "cell_type": "markdown",
   "metadata": {},
   "source": [
    "Set up focal genes list."
   ]
  },
  {
   "cell_type": "code",
   "execution_count": 86,
   "metadata": {},
   "outputs": [
    {
     "name": "stdout",
     "output_type": "stream",
     "text": [
      "192 focal genes.\n"
     ]
    }
   ],
   "source": [
    "# Set focal genes list\n",
    "focal_genes = AD_gwas_df.index.tolist() #AD_genes.index.tolist()\n",
    "\n",
    "# Set focal gene set name\n",
    "focal_geneset='AD_gwas_pos_eQTL' # 'AD_target'\n",
    "\n",
    "print(\"%d focal genes.\" % len(focal_genes))"
   ]
  },
  {
   "cell_type": "markdown",
   "metadata": {},
   "source": [
    "Write focal genes to a .tsv file."
   ]
  },
  {
   "cell_type": "code",
   "execution_count": 61,
   "metadata": {},
   "outputs": [],
   "source": [
    "# Write out seed genes for AWS processing\n",
    "\n",
    "# pd.DataFrame({'seed_genes':[focal_genes]}).to_csv('AD_seed_genes.tsv',sep='\\t')"
   ]
  },
  {
   "cell_type": "markdown",
   "metadata": {},
   "source": [
    "Create Heat instance and assign focal genes list to heat DEG list."
   ]
  },
  {
   "cell_type": "code",
   "execution_count": 87,
   "metadata": {},
   "outputs": [],
   "source": [
    "# create heat instance\n",
    "heat = Heat3.Heat(gene_type = 'symbol', species = 'human')\n",
    "\n",
    "# assign DEG list\n",
    "heat.DEG_list = focal_genes"
   ]
  },
  {
   "cell_type": "markdown",
   "metadata": {},
   "source": [
    "Looking at the attributes of the Heat3 object instance `heat`, we can see that `gene_type` is set to `symbol`, `species` is set to `human`, and `DEG_list` is set to the `focal_genes` variable we set in a cell above."
   ]
  },
  {
   "cell_type": "code",
   "execution_count": 88,
   "metadata": {},
   "outputs": [
    {
     "name": "stdout",
     "output_type": "stream",
     "text": [
      "Gene Type: symbol\n",
      "Species: human\n",
      "DEG_list is focal_genes: True\n"
     ]
    }
   ],
   "source": [
    "print(\"Gene Type: %s\" % heat.gene_type)\n",
    "print(\"Species: %s\" % heat.species)\n",
    "print(\"DEG_list is focal_genes: \" + str(focal_genes == heat.DEG_list))"
   ]
  },
  {
   "cell_type": "markdown",
   "metadata": {},
   "source": [
    "# Load the Interactome"
   ]
  },
  {
   "cell_type": "code",
   "execution_count": 89,
   "metadata": {},
   "outputs": [],
   "source": [
    "# Set interactome\n",
    "interactome='STRING700'\n",
    "\n",
    "# Create directory to save interactome results\n",
    "savedir = interactome + '_results/'\n",
    "if not os.path.isdir(savedir):\n",
    "    os.mkdir(savedir)"
   ]
  },
  {
   "cell_type": "markdown",
   "metadata": {},
   "source": [
    "### Load Network Locally"
   ]
  },
  {
   "cell_type": "code",
   "execution_count": 92,
   "metadata": {},
   "outputs": [
    {
     "name": "stdout",
     "output_type": "stream",
     "text": [
      "Number of interactions: 359776\n",
      "Number of nodes: 15131\n"
     ]
    }
   ],
   "source": [
    "\"\"\" load network locally \"\"\"\n",
    "\n",
    "gpickle_path = os.path.join('data', 'G_str_181022.gpickle')\n",
    "\n",
    "heat.DG_universe = nx.read_gpickle(gpickle_path)\n",
    "\n",
    "# if interactome=='STRING700':\n",
    "#     # STRING 700\n",
    "#     #heat.load_ndex_from_server(UUID = '7689335d-6fef-11e8-a4bf-0ac135e8bacf', relabel_node_field = 'name')\n",
    "\n",
    "#     # STRING 700 updated (from string group ndex link)\n",
    "#     heat.load_ndex_from_server(UUID = '275bd84e-3d18-11e8-a935-0ac135e8bacf', relabel_node_field = 'name')\n",
    "\n",
    "# elif interactome=='GIANTbrain':\n",
    "\n",
    "#     # GIANT top brain 0.2 -- no results found with this interactome\n",
    "#     heat.load_ndex_from_server(UUID = '19677bff-6037-11e8-a4bf-0ac135e8bacf', relabel_node_field = 'name')\n",
    "\n",
    "# elif interactome=='PCnet':\n",
    "#     # Ideker PCnet\n",
    "#     heat.load_ndex_from_server(UUID = 'f93f402c-86d4-11e7-a10d-0ac135e8bacf', relabel_node_field = 'name')\n",
    "\n",
    "print(\"Number of interactions: %d\" % len(list(heat.DG_universe.edges())))\n",
    "\n",
    "print(\"Number of nodes: %d\" % len(list(heat.DG_universe.nodes())))"
   ]
  },
  {
   "cell_type": "code",
   "execution_count": 93,
   "metadata": {},
   "outputs": [
    {
     "name": "stdout",
     "output_type": "stream",
     "text": [
      "There are 146 genes in this network.\n"
     ]
    }
   ],
   "source": [
    "# how many genes are in the network?\n",
    "print(\"There are %d genes in this network.\" % len(np.intersect1d(heat.DEG_list, heat.DG_universe.nodes())))"
   ]
  },
  {
   "cell_type": "code",
   "execution_count": 94,
   "metadata": {},
   "outputs": [
    {
     "data": {
      "image/png": "[encoded data removed]",
      "text/plain": [
       "<Figure size 864x504 with 1 Axes>"
      ]
     },
     "metadata": {
      "needs_background": "light"
     },
     "output_type": "display_data"
    }
   ],
   "source": [
    "numedges_list, numedges_rand, LCC_list, LCC_rand = heat.localization(num_reps = 100, \n",
    "                                                                     sample_frac = 0.8, \n",
    "                                                                     method = 'numedges', \n",
    "                                                                     plot = True)\n",
    "\n",
    "# plt.savefig(savedir+'/_AD_numedges_localization'+focal_geneset+'.png',dpi=300,bbox_inches='tight')"
   ]
  },
  {
   "cell_type": "code",
   "execution_count": 95,
   "metadata": {},
   "outputs": [
    {
     "name": "stdout",
     "output_type": "stream",
     "text": [
      "8.960278075065276e-10\n"
     ]
    },
    {
     "data": {
      "image/png": "[encoded data removed]",
      "text/plain": [
       "<Figure size 432x288 with 1 Axes>"
      ]
     },
     "metadata": {},
     "output_type": "display_data"
    }
   ],
   "source": [
    "# test out plotting parameters with a smaller num_reps first.\n",
    "numedges_list, numedges_rand, LCC_list, LCC_rand = heat.localization_full(num_reps = 1000, \n",
    "                                                                          method = 'numedges', \n",
    "                                                                          label = 'focal genes',\n",
    "                                                                          line_height = 0.01,\n",
    "                                                                          legend_loc = 'upper left')\n",
    "# plt.savefig(savedir+'_AD_numedges_localization_nosamp'+focal_geneset+'.png',dpi=300,bbox_inches='tight')"
   ]
  }
 ],
 "metadata": {
  "kernelspec": {
   "display_name": "Python 3",
   "language": "python",
   "name": "python3"
  },
  "language_info": {
   "codemirror_mode": {
    "name": "ipython",
    "version": 3
   },
   "file_extension": ".py",
   "mimetype": "text/x-python",
   "name": "python",
   "nbconvert_exporter": "python",
   "pygments_lexer": "ipython3",
   "version": "3.6.8"
  }
 },
 "nbformat": 4,
 "nbformat_minor": 2
}
